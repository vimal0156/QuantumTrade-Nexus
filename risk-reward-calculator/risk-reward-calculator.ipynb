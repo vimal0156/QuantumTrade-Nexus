{
 "cells": [
  {
   "cell_type": "markdown",
   "id": "33653d81-c6c1-4698-b301-df5e81693321",
   "metadata": {},
   "source": [
    "# R-Multiples and Risk/Reward Analysis with Python"
   ]
  },
  {
   "cell_type": "markdown",
   "id": "bd90fb7e-4e16-40c4-99b3-f31e8b1fee80",
   "metadata": {},
   "source": [
    "## Dev env configuration"
   ]
  },
  {
   "cell_type": "code",
   "execution_count": 1,
   "id": "0e29b865-840a-4cdf-8fd6-40c24a15b68f",
   "metadata": {},
   "outputs": [],
   "source": [
    "# install the required python packages\n",
    "# !pip install numpy pandas"
   ]
  },
  {
   "cell_type": "markdown",
   "id": "54344ca4-603b-4e73-9fc8-7a129871bcb9",
   "metadata": {},
   "source": [
    "## Imports"
   ]
  },
  {
   "cell_type": "code",
   "execution_count": 2,
   "id": "7b2aaf99-d10e-446a-8d74-6bce86ba2109",
   "metadata": {},
   "outputs": [],
   "source": [
    "# import the necessary packages\n",
    "from typing import Optional\n",
    "from typing import Union\n",
    "from typing import List\n",
    "from dataclasses import dataclass\n",
    "import pandas as pd"
   ]
  },
  {
   "cell_type": "markdown",
   "id": "72ded362-7bff-4675-990d-d12d0382edc7",
   "metadata": {},
   "source": [
    "## Implementing a simple risk/reward calculator"
   ]
  },
  {
   "cell_type": "code",
   "execution_count": 3,
   "id": "b239cee2-3a6a-46b6-8dc3-6b8a3fb6edf3",
   "metadata": {},
   "outputs": [],
   "source": [
    "@dataclass(frozen=True)\n",
    "class TradeRiskParams:\n",
    "    # define the data schema for risk/reward parameters for a given trade\n",
    "    amount_to_risk: float\n",
    "    percent_risk: float\n",
    "    shares_to_trade: float\n",
    "    total_investment: float"
   ]
  },
  {
   "cell_type": "code",
   "execution_count": 4,
   "id": "6918b677-7843-4492-bf47-5729f2aa3ce9",
   "metadata": {},
   "outputs": [],
   "source": [
    "@dataclass(frozen=True)\n",
    "class RLevelOutput:\n",
    "    # define the data schema for R-level outputs\n",
    "    r_level: int\n",
    "    potential_pl: float\n",
    "    price: float"
   ]
  },
  {
   "cell_type": "code",
   "execution_count": 5,
   "id": "189a97a6-c83c-443d-8671-fca16f0283fe",
   "metadata": {},
   "outputs": [],
   "source": [
    "class RiskRewardCalculator:\n",
    "\n",
    "    # define the list of default R-values to compute\n",
    "    DEFAULT_R_VALUES = [1, 2, 3, 4, 5]\n",
    "\n",
    "    def __init__(\n",
    "            self,\n",
    "            total_account_value: float,\n",
    "            entry_point: float,\n",
    "            stop_loss: float,\n",
    "            risk_rate: float = 0.01,\n",
    "            is_short: bool = False\n",
    "    ) -> None:\n",
    "        # for short trades, the entry point must be *below* the stop loss\n",
    "        if is_short and entry_point >= stop_loss:\n",
    "            # raise an error\n",
    "            raise ValueError(\n",
    "                \"For short trades, `entry_point` must be less than `stop_loss`\"\n",
    "            )\n",
    "\n",
    "        # for long trades, the entry point but be *above* the stop loss\n",
    "        if not is_short and entry_point <= stop_loss:\n",
    "            # raise an error\n",
    "            raise ValueError(\n",
    "                \"For long trades, `entry_point` must be greater than `stop_loss`\"\n",
    "            )\n",
    "        \n",
    "        # store the total account value, entry point, stop loss, risk rate, and\n",
    "        # trade direction\n",
    "        self.total_account_value = total_account_value\n",
    "        self.entry_point = entry_point\n",
    "        self.stop_loss = stop_loss\n",
    "        self.risk_rate = risk_rate\n",
    "        self.is_short = is_short\n",
    "\n",
    "        # calculate the amount to risk on each trade\n",
    "        self.amount_to_risk = self.total_account_value * self.risk_rate\n",
    "\n",
    "        # determine the price difference between the entry point and stop loss,\n",
    "        # then derive the number of shares to enter based on the amount to risk\n",
    "        # and trade direction\n",
    "        self.price_delta = abs(self.entry_point - self.stop_loss)\n",
    "        self.shares_to_trade = self.amount_to_risk / self.price_delta\n",
    "\n",
    "        # calculate the total amount of money to be invested based on the\n",
    "        # number of shares and the entry point\n",
    "        self.total_investment = self.shares_to_trade * self.entry_point\n",
    "\n",
    "        # derive the overall risk percentage of the account\n",
    "        amount_ratio = self.amount_to_risk / self.total_account_value\n",
    "        self.risk_pct_of_account = amount_ratio * 100\n",
    "\n",
    "    def get_risk_parameters(self) -> TradeRiskParams:\n",
    "        # construct and return the calculated risk parameters\n",
    "        return TradeRiskParams(\n",
    "            amount_to_risk=self.amount_to_risk,\n",
    "            percent_risk=self.risk_pct_of_account,\n",
    "            shares_to_trade=self.shares_to_trade,\n",
    "            total_investment=self.total_investment\n",
    "        )\n",
    "\n",
    "    def r_levels(\n",
    "            self,\n",
    "            r_levels: Optional[List[Union[int, float]]] = None\n",
    "    ) -> List[RLevelOutput]:\n",
    "        # check to see if risk/reward levels were not provided\n",
    "        if not isinstance(r_levels, list):\n",
    "            # use the default risk/reward levels\n",
    "            r_levels = self.DEFAULT_R_VALUES\n",
    "\n",
    "        # initialize the list of R-level outputs\n",
    "        results = []\n",
    "\n",
    "        # loop over the levels\n",
    "        for r in r_levels:\n",
    "            # calculate the potential profit/loss\n",
    "            potential_pl = r * self.amount_to_risk\n",
    "\n",
    "            # determine the price based on trade direction (for shorts, price\n",
    "            # *decreases* as R *rises*, while for longs price *increases* as\n",
    "            # R *rises)\n",
    "            direction = -1 if self.is_short else 1\n",
    "            price = self.entry_point + (direction * r * self.price_delta)\n",
    "\n",
    "            # update the results list\n",
    "            results.append(RLevelOutput(\n",
    "                r_level=r,\n",
    "                potential_pl=potential_pl,\n",
    "                price=price\n",
    "            ))\n",
    "\n",
    "        # return the list of r-level results\n",
    "        return results\n",
    "\n",
    "    def r_level_at_price(self, price: float) -> float:\n",
    "        # compute the r-level for the input price based on trade direction\n",
    "        direction = -1 if self.is_short else 1\n",
    "        r_level = direction * (price - self.entry_point) / self.price_delta\n",
    "        \n",
    "        # return the computed r-level for the price\n",
    "        return r_level"
   ]
  },
  {
   "cell_type": "markdown",
   "id": "5d887f3f-da45-4995-af8b-efbb1748c6a2",
   "metadata": {},
   "source": [
    "## Using our risk/reward calculator in real-world trading situations"
   ]
  },
  {
   "cell_type": "markdown",
   "id": "94ee07be-5f37-460d-9ace-9b0fac193acb",
   "metadata": {},
   "source": [
    "### Risk/reward calculation for long positions"
   ]
  },
  {
   "cell_type": "code",
   "execution_count": 6,
   "id": "fbf2fd1d-925c-4239-a08b-2754bbd75cbb",
   "metadata": {},
   "outputs": [],
   "source": [
    "# initialize the risk/reward calculator for a potential long\n",
    "calc = RiskRewardCalculator(\n",
    "    total_account_value=25_000,\n",
    "    entry_point=100.61,\n",
    "    stop_loss=95.0\n",
    ")"
   ]
  },
  {
   "cell_type": "code",
   "execution_count": 7,
   "id": "ce64b91d-0cec-4a3a-af6c-547a84ea5b38",
   "metadata": {},
   "outputs": [
    {
     "data": {
      "text/html": [
       "<div>\n",
       "<style scoped>\n",
       "    .dataframe tbody tr th:only-of-type {\n",
       "        vertical-align: middle;\n",
       "    }\n",
       "\n",
       "    .dataframe tbody tr th {\n",
       "        vertical-align: top;\n",
       "    }\n",
       "\n",
       "    .dataframe thead th {\n",
       "        text-align: right;\n",
       "    }\n",
       "</style>\n",
       "<table border=\"1\" class=\"dataframe\">\n",
       "  <thead>\n",
       "    <tr style=\"text-align: right;\">\n",
       "      <th></th>\n",
       "      <th>Trade</th>\n",
       "    </tr>\n",
       "  </thead>\n",
       "  <tbody>\n",
       "    <tr>\n",
       "      <th>Amount To Risk</th>\n",
       "      <td>250.000000</td>\n",
       "    </tr>\n",
       "    <tr>\n",
       "      <th>Risk % of Account</th>\n",
       "      <td>1.000000</td>\n",
       "    </tr>\n",
       "    <tr>\n",
       "      <th>Shares to Trade</th>\n",
       "      <td>44.563280</td>\n",
       "    </tr>\n",
       "    <tr>\n",
       "      <th>Total Investment</th>\n",
       "      <td>4483.511586</td>\n",
       "    </tr>\n",
       "  </tbody>\n",
       "</table>\n",
       "</div>"
      ],
      "text/plain": [
       "                         Trade\n",
       "Amount To Risk      250.000000\n",
       "Risk % of Account     1.000000\n",
       "Shares to Trade      44.563280\n",
       "Total Investment   4483.511586"
      ]
     },
     "execution_count": 7,
     "metadata": {},
     "output_type": "execute_result"
    }
   ],
   "source": [
    "# grab the risk parameters\n",
    "risk_params = calc.get_risk_parameters()\n",
    "\n",
    "# construct a dataframe from the parameters and display it\n",
    "df = pd.DataFrame({\n",
    "    \"Amount To Risk\": [risk_params.amount_to_risk],\n",
    "    \"Risk % of Account\": [risk_params.percent_risk],\n",
    "    \"Shares to Trade\": [risk_params.shares_to_trade],\n",
    "    \"Total Investment\": [risk_params.total_investment],\n",
    "}, index=[\"Trade\"]).T\n",
    "df"
   ]
  },
  {
   "cell_type": "code",
   "execution_count": 8,
   "id": "410187e3-c48a-4581-b025-8c302d84243a",
   "metadata": {},
   "outputs": [
    {
     "data": {
      "text/html": [
       "<div>\n",
       "<style scoped>\n",
       "    .dataframe tbody tr th:only-of-type {\n",
       "        vertical-align: middle;\n",
       "    }\n",
       "\n",
       "    .dataframe tbody tr th {\n",
       "        vertical-align: top;\n",
       "    }\n",
       "\n",
       "    .dataframe thead th {\n",
       "        text-align: right;\n",
       "    }\n",
       "</style>\n",
       "<table border=\"1\" class=\"dataframe\">\n",
       "  <thead>\n",
       "    <tr style=\"text-align: right;\">\n",
       "      <th></th>\n",
       "      <th>Potential P&amp;L</th>\n",
       "      <th>Price at R</th>\n",
       "    </tr>\n",
       "  </thead>\n",
       "  <tbody>\n",
       "    <tr>\n",
       "      <th>1</th>\n",
       "      <td>250.0</td>\n",
       "      <td>106.22</td>\n",
       "    </tr>\n",
       "    <tr>\n",
       "      <th>2</th>\n",
       "      <td>500.0</td>\n",
       "      <td>111.83</td>\n",
       "    </tr>\n",
       "    <tr>\n",
       "      <th>3</th>\n",
       "      <td>750.0</td>\n",
       "      <td>117.44</td>\n",
       "    </tr>\n",
       "    <tr>\n",
       "      <th>4</th>\n",
       "      <td>1000.0</td>\n",
       "      <td>123.05</td>\n",
       "    </tr>\n",
       "    <tr>\n",
       "      <th>5</th>\n",
       "      <td>1250.0</td>\n",
       "      <td>128.66</td>\n",
       "    </tr>\n",
       "  </tbody>\n",
       "</table>\n",
       "</div>"
      ],
      "text/plain": [
       "   Potential P&L  Price at R\n",
       "1          250.0      106.22\n",
       "2          500.0      111.83\n",
       "3          750.0      117.44\n",
       "4         1000.0      123.05\n",
       "5         1250.0      128.66"
      ]
     },
     "execution_count": 8,
     "metadata": {},
     "output_type": "execute_result"
    }
   ],
   "source": [
    "# calculate the risk/reward levels\n",
    "r_levels = calc.r_levels()\n",
    "\n",
    "# construct a dataframe from the R-levels and display it\n",
    "df = pd.DataFrame({\n",
    "    \"Potential P&L\": [r.potential_pl for r in r_levels],\n",
    "    \"Price at R\": [r.price for r in r_levels],\n",
    "}, index=[r.r_level for r in r_levels])\n",
    "df"
   ]
  },
  {
   "cell_type": "code",
   "execution_count": 9,
   "id": "4062dc71-d471-4c8b-a76b-a4ca8dc2f42a",
   "metadata": {},
   "outputs": [
    {
     "data": {
      "text/plain": [
       "5.238859180035651"
      ]
     },
     "execution_count": 9,
     "metadata": {},
     "output_type": "execute_result"
    }
   ],
   "source": [
    "# given an input price, determine what the R-level would be\n",
    "calc.r_level_at_price(130.0)"
   ]
  },
  {
   "cell_type": "markdown",
   "id": "b09eda33-469b-48f3-addd-a39f6dc6e2a9",
   "metadata": {},
   "source": [
    "### Risk/reward calculation for short positions"
   ]
  },
  {
   "cell_type": "code",
   "execution_count": 10,
   "id": "caa756d9-06d6-4c14-ba6d-c09b42d57c85",
   "metadata": {},
   "outputs": [],
   "source": [
    "# initialize the risk/reward calculator for a potential short\n",
    "calc = RiskRewardCalculator(\n",
    "    total_account_value=25_000,\n",
    "    entry_point=48.84,\n",
    "    stop_loss=50.57,\n",
    "    risk_rate=0.0075,\n",
    "    is_short=True\n",
    ")"
   ]
  },
  {
   "cell_type": "code",
   "execution_count": 11,
   "id": "55565d1d-45d2-4224-a3b6-75bf0c452829",
   "metadata": {},
   "outputs": [
    {
     "data": {
      "text/html": [
       "<div>\n",
       "<style scoped>\n",
       "    .dataframe tbody tr th:only-of-type {\n",
       "        vertical-align: middle;\n",
       "    }\n",
       "\n",
       "    .dataframe tbody tr th {\n",
       "        vertical-align: top;\n",
       "    }\n",
       "\n",
       "    .dataframe thead th {\n",
       "        text-align: right;\n",
       "    }\n",
       "</style>\n",
       "<table border=\"1\" class=\"dataframe\">\n",
       "  <thead>\n",
       "    <tr style=\"text-align: right;\">\n",
       "      <th></th>\n",
       "      <th>Trade</th>\n",
       "    </tr>\n",
       "  </thead>\n",
       "  <tbody>\n",
       "    <tr>\n",
       "      <th>Amount To Risk</th>\n",
       "      <td>187.500000</td>\n",
       "    </tr>\n",
       "    <tr>\n",
       "      <th>Risk % of Account</th>\n",
       "      <td>0.750000</td>\n",
       "    </tr>\n",
       "    <tr>\n",
       "      <th>Shares to Trade</th>\n",
       "      <td>108.381503</td>\n",
       "    </tr>\n",
       "    <tr>\n",
       "      <th>Total Investment</th>\n",
       "      <td>5293.352601</td>\n",
       "    </tr>\n",
       "  </tbody>\n",
       "</table>\n",
       "</div>"
      ],
      "text/plain": [
       "                         Trade\n",
       "Amount To Risk      187.500000\n",
       "Risk % of Account     0.750000\n",
       "Shares to Trade     108.381503\n",
       "Total Investment   5293.352601"
      ]
     },
     "execution_count": 11,
     "metadata": {},
     "output_type": "execute_result"
    }
   ],
   "source": [
    "# grab the risk parameters\n",
    "risk_params = calc.get_risk_parameters()\n",
    "\n",
    "# construct a dataframe from the parameters and display it\n",
    "df = pd.DataFrame({\n",
    "    \"Amount To Risk\": [risk_params.amount_to_risk],\n",
    "    \"Risk % of Account\": [risk_params.percent_risk],\n",
    "    \"Shares to Trade\": [risk_params.shares_to_trade],\n",
    "    \"Total Investment\": [risk_params.total_investment],\n",
    "}, index=[\"Trade\"]).T\n",
    "df"
   ]
  },
  {
   "cell_type": "code",
   "execution_count": 12,
   "id": "ec9b9080-b521-4c8a-95b2-3c9d323cd338",
   "metadata": {},
   "outputs": [
    {
     "data": {
      "text/html": [
       "<div>\n",
       "<style scoped>\n",
       "    .dataframe tbody tr th:only-of-type {\n",
       "        vertical-align: middle;\n",
       "    }\n",
       "\n",
       "    .dataframe tbody tr th {\n",
       "        vertical-align: top;\n",
       "    }\n",
       "\n",
       "    .dataframe thead th {\n",
       "        text-align: right;\n",
       "    }\n",
       "</style>\n",
       "<table border=\"1\" class=\"dataframe\">\n",
       "  <thead>\n",
       "    <tr style=\"text-align: right;\">\n",
       "      <th></th>\n",
       "      <th>Potential P&amp;L</th>\n",
       "      <th>Price at R</th>\n",
       "    </tr>\n",
       "  </thead>\n",
       "  <tbody>\n",
       "    <tr>\n",
       "      <th>1</th>\n",
       "      <td>187.5</td>\n",
       "      <td>47.11</td>\n",
       "    </tr>\n",
       "    <tr>\n",
       "      <th>2</th>\n",
       "      <td>375.0</td>\n",
       "      <td>45.38</td>\n",
       "    </tr>\n",
       "    <tr>\n",
       "      <th>3</th>\n",
       "      <td>562.5</td>\n",
       "      <td>43.65</td>\n",
       "    </tr>\n",
       "    <tr>\n",
       "      <th>4</th>\n",
       "      <td>750.0</td>\n",
       "      <td>41.92</td>\n",
       "    </tr>\n",
       "    <tr>\n",
       "      <th>5</th>\n",
       "      <td>937.5</td>\n",
       "      <td>40.19</td>\n",
       "    </tr>\n",
       "  </tbody>\n",
       "</table>\n",
       "</div>"
      ],
      "text/plain": [
       "   Potential P&L  Price at R\n",
       "1          187.5       47.11\n",
       "2          375.0       45.38\n",
       "3          562.5       43.65\n",
       "4          750.0       41.92\n",
       "5          937.5       40.19"
      ]
     },
     "execution_count": 12,
     "metadata": {},
     "output_type": "execute_result"
    }
   ],
   "source": [
    "# calculate the risk/reward levels\n",
    "r_levels = calc.r_levels()\n",
    "\n",
    "# construct a dataframe from the R-levels and display it\n",
    "df = pd.DataFrame({\n",
    "    \"Potential P&L\": [r.potential_pl for r in r_levels],\n",
    "    \"Price at R\": [r.price for r in r_levels],\n",
    "}, index=[r.r_level for r in r_levels])\n",
    "df"
   ]
  },
  {
   "cell_type": "code",
   "execution_count": 13,
   "id": "bbfcf1f2-93dc-411d-bb6e-6f88ed8b7c48",
   "metadata": {},
   "outputs": [
    {
     "data": {
      "text/plain": [
       "8.000000000000016"
      ]
     },
     "execution_count": 13,
     "metadata": {},
     "output_type": "execute_result"
    }
   ],
   "source": [
    "# given an input price, determine what the R-level would be\n",
    "calc.r_level_at_price(35.0)"
   ]
  },
  {
   "cell_type": "code",
   "execution_count": null,
   "id": "51aa65a8-1b02-40da-872d-15728841cc68",
   "metadata": {},
   "outputs": [],
   "source": []
  }
 ],
 "metadata": {
  "kernelspec": {
   "display_name": "Python 3 (ipykernel)",
   "language": "python",
   "name": "python3"
  },
  "language_info": {
   "codemirror_mode": {
    "name": "ipython",
    "version": 3
   },
   "file_extension": ".py",
   "mimetype": "text/x-python",
   "name": "python",
   "nbconvert_exporter": "python",
   "pygments_lexer": "ipython3",
   "version": "3.11.4"
  }
 },
 "nbformat": 4,
 "nbformat_minor": 5
}
